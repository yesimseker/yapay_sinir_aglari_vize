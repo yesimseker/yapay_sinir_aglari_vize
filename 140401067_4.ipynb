{
  "nbformat": 4,
  "nbformat_minor": 0,
  "metadata": {
    "colab": {
      "provenance": []
    },
    "kernelspec": {
      "name": "python3",
      "display_name": "Python 3"
    },
    "language_info": {
      "name": "python"
    }
  },
  "cells": [
    {
      "cell_type": "code",
      "execution_count": 1,
      "metadata": {
        "colab": {
          "base_uri": "https://localhost:8080/"
        },
        "id": "ttOQFyDBKP4A",
        "outputId": "c2a1d85b-5c63-4488-9d68-e1f313b1e349"
      },
      "outputs": [
        {
          "output_type": "stream",
          "name": "stdout",
          "text": [
            "tensor([[0.9997],\n",
            "        [0.9976]])\n"
          ]
        }
      ],
      "source": [
        "import torch\n",
        "import torch . nn as nn\n",
        "# seed degerini ayarla\n",
        "torch . manual_seed ( 1 )\n",
        "# girdi verisi olustur\n",
        "X = torch . tensor ( [ [1 , 2 , 3 ] ,\n",
        "[4 , 5 , 6 ] ] , dtype = torch . float32 )\n",
        "# hidden layer tanimi\n",
        "input_size = X . shape [ 1 ]\n",
        "hidden_size = 50\n",
        "# agirlik ve bias olustur\n",
        "w1 = torch . randn ( input_size , hidden_size , dtype = torch . float32 )\n",
        "b1 = torch . zeros ( hidden_size , dtype = torch . float )\n",
        "\n",
        "# aktivasyon fonksiyonu tanimi\n",
        "def tanh ( x ) :\n",
        "    return ( torch . exp ( x ) - torch . exp ( - x ) ) / ( torch . exp ( x ) + torch . exp ( - x ) )\n",
        "\n",
        "h = tanh ( torch . mm (X , w1 ) + b1 )\n",
        "output_size = 1\n",
        "w2 = torch . randn ( hidden_size , output_size , dtype = torch . float32 )\n",
        "b2 = torch . zeros ( output_size , dtype = torch . float32 )\n",
        "\n",
        "# sigmoid aktivasyon fonksiyonu tanimi\n",
        "def sigmoid ( x ) :\n",
        "    return 1 / ( 1 + torch . exp ( - x ) )\n",
        "y = sigmoid ( torch . mm (h , w2 ) + b2 )\n",
        "print ( y )"
      ]
    },
    {
      "cell_type": "code",
      "source": [
        "import torch\n",
        "import torch . nn as nn\n",
        "torch . manual_seed ( 140401067 )\n",
        "\n",
        "X = torch . tensor ( [ [1 , 2 , 3 ] ,\n",
        "[4 , 5 , 6 ] ] , dtype = torch . float32 )\n",
        "\n",
        "input_size = X . shape [ 1 ]\n",
        "hidden_size = 50\n",
        "\n",
        "w1 = torch . randn ( input_size , hidden_size , dtype = torch . float32 )\n",
        "b1 = torch . zeros ( hidden_size , dtype = torch . float )\n",
        "\n",
        "def tanh ( x ) :\n",
        "    return ( torch . exp ( x ) - torch . exp ( - x ) ) / ( torch . exp ( x ) + torch . exp ( - x ) )\n",
        "\n",
        "h = tanh ( torch . mm (X , w1 ) + b1 )\n",
        "output_size = 1\n",
        "w2 = torch . randn ( hidden_size , output_size , dtype = torch . float32 )\n",
        "b2 = torch . zeros ( output_size , dtype = torch . float32 )\n",
        "\n",
        "def sigmoid ( x ) :\n",
        "    return 1 / ( 1 + torch . exp ( - x ) )\n",
        "y = sigmoid ( torch . mm (h , w2 ) + b2 )\n",
        "print ( y )"
      ],
      "metadata": {
        "colab": {
          "base_uri": "https://localhost:8080/"
        },
        "id": "zA0RdwB2Ku45",
        "outputId": "b880f216-59db-4a36-9b48-e175a4c4c7f8"
      },
      "execution_count": 2,
      "outputs": [
        {
          "output_type": "stream",
          "name": "stdout",
          "text": [
            "tensor([[0.7595],\n",
            "        [0.9276]])\n"
          ]
        }
      ]
    }
  ]
}